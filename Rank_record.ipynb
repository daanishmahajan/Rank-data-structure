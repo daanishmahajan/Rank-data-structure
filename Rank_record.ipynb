{
 "cells": [
  {
   "cell_type": "code",
   "execution_count": null,
   "metadata": {},
   "outputs": [],
   "source": [
    "import sys, time # Computing time for each algorithm\n",
    "import math # Doing mathematical computations\n",
    "import random # Generating large random string\n",
    "from IPython.display import Image, display # Displaying images"
   ]
  },
  {
   "cell_type": "code",
   "execution_count": null,
   "metadata": {},
   "outputs": [],
   "source": [
    "IN_FILE = 'data/chrMT.fna'"
   ]
  },
  {
   "cell_type": "code",
   "execution_count": null,
   "metadata": {},
   "outputs": [],
   "source": [
    "# Command line prompt for finding the length of input sequence\n",
    "!seqkit fx2tab --length --name $IN_FILE"
   ]
  },
  {
   "cell_type": "code",
   "execution_count": null,
   "metadata": {},
   "outputs": [],
   "source": [
    "length = 16569"
   ]
  },
  {
   "cell_type": "code",
   "execution_count": null,
   "metadata": {},
   "outputs": [],
   "source": [
    "bit_vector = '0'\n",
    "cnt = 0\n",
    "\n",
    "# Bit vector will be used to support operations of the form: Finding number of character 'A' till index i\n",
    "\n",
    "with open(IN_FILE, 'r') as file:\n",
    "    for line in file:\n",
    "        token = line.strip()\n",
    "        if(token[0] == '>'):\n",
    "            continue\n",
    "        for c in token:\n",
    "            cnt += 1\n",
    "            bit_vector += '1' if c == 'A' else '0'  \n",
    "\n",
    "assert cnt == length"
   ]
  },
  {
   "cell_type": "code",
   "execution_count": null,
   "metadata": {},
   "outputs": [],
   "source": [
    "# Naive Algorithm\n",
    "\n",
    "# Implementation \n",
    "\n",
    "naive_rank = [0] * (length + 1)\n",
    "\n",
    "for i in range(1, length + 1):\n",
    "    naive_rank[i] = naive_rank[i - 1] + (0 if bit_vector[i] == '0' else 1) # Using Prefix sum technique to compute the rank at every index\n",
    "\n",
    "n_space = sys.getsizeof(naive_rank) / 1000000\n",
    "print(f'Space Required by Naive Algorithm = {n_space} MB')"
   ]
  },
  {
   "cell_type": "code",
   "execution_count": null,
   "metadata": {},
   "outputs": [],
   "source": [
    "# Succinct Algorithm \n",
    "\n",
    "# Implementation \n",
    "\n",
    "k = math.floor(math.log2(length) / 2)\n",
    "l = k * k\n",
    "\n",
    "first = [0] * (int(length / l) + 2)\n",
    "second = [0] * (int(length / k) + 2)\n",
    "\n",
    "for i in range(1, length + 1):\n",
    "    first[math.ceil(i / l)] += 0 if bit_vector[i] == '0' else 1\n",
    "    second[math.ceil(i / k)] += 0 if bit_vector[i] == '0' else 1\n",
    "    \n",
    "    if(i % k == 0):\n",
    "        second[int(i / k)] += second[int(i / k) - 1]\n",
    "    if(i % l == 0):\n",
    "        first[int(i / l)] += first[int(i / l) - 1]\n",
    "        second[int(i / k)] = 0\n",
    "\n",
    "third = []\n",
    "\n",
    "for i in range(2 ** (k - 1)):\n",
    "    pthird = [0] * k\n",
    "    for j in range(k - 1): # 0110 & 1 = 0 -> 0011 & 1 = 1 -> 1001 & 1 = 1 -> 1100 & 1 = 0 -> 0110\n",
    "        pthird[j + 1] = pthird[j] + ((i >> (k - 2 - j)) & 1)\n",
    "    third.append(pthird)\n",
    "\n",
    "s_space = (sys.getsizeof(bit_vector) + sys.getsizeof(first) + sys.getsizeof(second) + sys.getsizeof(third)) / 1000000\n",
    "\n",
    "print(f'Space required by the Succinct Algorithm = {s_space} MB')\n",
    "\n",
    "print(f'Succinct Algorithm takes {n_space / s_space} x less space in comparison to Naive Algorithm')"
   ]
  },
  {
   "cell_type": "code",
   "execution_count": null,
   "metadata": {},
   "outputs": [],
   "source": [
    "# Stress test + Timing the Succinct Algorithm\n",
    "\n",
    "# Pad bit_vector with k zeroes\n",
    "for i in range(k):\n",
    "    bit_vector += '0'\n",
    "\n",
    "query_count = 1000000\n",
    "naive_total_time = 0\n",
    "succinct_total_time = 0\n",
    "\n",
    "for i in range(query_count):\n",
    "    id = random.randint(1, length)\n",
    "    \n",
    "    naive_starttime = time.time()\n",
    "    n_rank = naive_rank[id]\n",
    "    naive_endtime = time.time()\n",
    "\n",
    "    succinct_starttime = time.time()\n",
    "    s_rank = first[int(id / l)] + second[int(id / k)] + third[int(bit_vector[int(id / k) * k + 1 : (int(id / k) + 1) * k], 2)][id % k]\n",
    "    succinct_endtime = time.time()\n",
    "\n",
    "    assert n_rank == s_rank\n",
    "\n",
    "    naive_total_time += naive_endtime - naive_starttime\n",
    "    succinct_total_time += succinct_endtime - succinct_starttime\n",
    "\n",
    "print(f'Succinct Algorithm takes {succinct_total_time / naive_total_time}x more time w.r.t. the Naive Algorithm')"
   ]
  }
 ],
 "metadata": {
  "kernelspec": {
   "display_name": "readfish",
   "language": "python",
   "name": "python3"
  },
  "language_info": {
   "codemirror_mode": {
    "name": "ipython",
    "version": 3
   },
   "file_extension": ".py",
   "mimetype": "text/x-python",
   "name": "python",
   "nbconvert_exporter": "python",
   "pygments_lexer": "ipython3",
   "version": "3.11.7"
  }
 },
 "nbformat": 4,
 "nbformat_minor": 2
}
